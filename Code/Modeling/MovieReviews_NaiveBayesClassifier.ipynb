{
 "cells": [
  {
   "cell_type": "code",
   "execution_count": 1,
   "id": "b9762d72-acd8-4a3d-a229-a91562eb5988",
   "metadata": {},
   "outputs": [],
   "source": [
    "import pandas as pd\n",
    "import glob\n",
    "import os\n",
    "import random"
   ]
  },
  {
   "cell_type": "markdown",
   "id": "7894f4b8-a385-40e0-ba87-a802adaa170f",
   "metadata": {},
   "source": [
    "# Read pickle source data file and convert to dataframe"
   ]
  },
  {
   "cell_type": "code",
   "execution_count": 4,
   "id": "5f8a7bdd-bfb6-496b-b084-2fc29cb3e0e3",
   "metadata": {},
   "outputs": [],
   "source": [
    "# Specify the file path for the pickle file\n",
    "pickle_file_path = 'merged_df.pkl'\n",
    "\n",
    "# Read the pickle file and convert it to a DataFrame\n",
    "merged_df = pd.read_pickle(pickle_file_path)"
   ]
  },
  {
   "cell_type": "markdown",
   "id": "221f4ffb-a86b-4464-892c-f74474f4aea0",
   "metadata": {},
   "source": [
    "# Train and Test split"
   ]
  },
  {
   "cell_type": "code",
   "execution_count": 5,
   "id": "feee3bac-646e-45ab-ab55-7a9a3552d0ab",
   "metadata": {},
   "outputs": [
    {
     "name": "stdout",
     "output_type": "stream",
     "text": [
      "Train set shape: (188804, 8)\n",
      "Test set shape: (80916, 8)\n"
     ]
    }
   ],
   "source": [
    "from sklearn.model_selection import train_test_split\n",
    "\n",
    "# Split the data into train and test sets\n",
    "train_df, test_df = train_test_split(merged_df, test_size=0.3, random_state=50)\n",
    "\n",
    "# Print the shapes of the train and test sets\n",
    "print(\"Train set shape:\", train_df.shape)\n",
    "print(\"Test set shape:\", test_df.shape)"
   ]
  },
  {
   "cell_type": "markdown",
   "id": "f335a231-1f53-46da-b846-96e0fdf3805a",
   "metadata": {},
   "source": [
    "# Naive Bayes Classifier for Sentiment Analysis"
   ]
  },
  {
   "cell_type": "code",
   "execution_count": 6,
   "id": "860a30d9-dc87-4026-bc50-4a255defcf5b",
   "metadata": {},
   "outputs": [
    {
     "name": "stdout",
     "output_type": "stream",
     "text": [
      "Train Accuracy: 0.8053007351539162\n"
     ]
    }
   ],
   "source": [
    "import numpy as np\n",
    "from sklearn.feature_extraction.text import CountVectorizer\n",
    "from sklearn.naive_bayes import MultinomialNB\n",
    "from sklearn.metrics import accuracy_score\n",
    "\n",
    "# Prepare the data\n",
    "X_train = train_df['review'].values\n",
    "y_train = train_df['rating_sentiment'].values\n",
    "\n",
    "# Vectorize the text data\n",
    "vectorizer = CountVectorizer()\n",
    "X_train = vectorizer.fit_transform(X_train)\n",
    "\n",
    "# Train the Naive Bayes classifier\n",
    "nb_classifier = MultinomialNB()\n",
    "nb_classifier.fit(X_train, y_train)\n",
    "\n",
    "# Make predictions on the training data\n",
    "train_predictions = nb_classifier.predict(X_train)\n",
    "\n",
    "# Calculate the accuracy\n",
    "train_accuracy = accuracy_score(y_train, train_predictions)\n",
    "print(\"Train Accuracy:\", train_accuracy)\n"
   ]
  },
  {
   "cell_type": "markdown",
   "id": "74c59e34-dd6d-4bfe-b87b-45ca2d793e7e",
   "metadata": {},
   "source": [
    "# Test Accuracy"
   ]
  },
  {
   "cell_type": "code",
   "execution_count": 7,
   "id": "ebb85bbe-7995-4850-91de-34bab9a71aa8",
   "metadata": {},
   "outputs": [
    {
     "name": "stdout",
     "output_type": "stream",
     "text": [
      "Test Accuracy: 0.7865935043749073\n"
     ]
    }
   ],
   "source": [
    "# Prepare the test data\n",
    "X_test = test_df['review'].values\n",
    "y_test = test_df['rating_sentiment'].values\n",
    "\n",
    "# Vectorize the test data using the same vectorizer\n",
    "X_test = vectorizer.transform(X_test)\n",
    "\n",
    "# Make predictions on the test data\n",
    "test_predictions = nb_classifier.predict(X_test)\n",
    "\n",
    "# Calculate the accuracy\n",
    "test_accuracy = accuracy_score(y_test, test_predictions)\n",
    "print(\"Test Accuracy:\", test_accuracy)\n"
   ]
  },
  {
   "cell_type": "markdown",
   "id": "e5abdc62-f1aa-46c8-8dfb-79e06204141d",
   "metadata": {},
   "source": [
    "# Testing a sample review"
   ]
  },
  {
   "cell_type": "code",
   "execution_count": 8,
   "id": "69db87cc-997f-42f0-bf88-f2b526aaffc3",
   "metadata": {},
   "outputs": [
    {
     "name": "stdout",
     "output_type": "stream",
     "text": [
      "Positive sentiment\n"
     ]
    }
   ],
   "source": [
    "review = \"21 was such an exciting movie to just sit down and watch. The whole entire movie was very intense. Especially the last 10 minutes of this, it really keeps you on the edge of your seat. This movie had some great twists that you do not see coming at all. Especially one of the twists at the end that you will be shocked from. I loved the main actors role in this movie. I thought that Jim Sturgess did such an amazing job playing the main role. He had a whole lot of stuff going through his mind in this movie the whole time. I thought that if they tried they would not have of found a better actor to play his role. Kevin Spacey also handed in a great performance as well. Kate Bosworth was looking very hot, and also did a great job. I loved how this movie was really based on a true story. I always find movies that are based on true stories good. This one was especially good though. It sort of teaches you a little bit about black jack as the movie goes on. This movie is well worth your money and time. It's good this movie was 2 hours long it made all the better. The thing this movie is trying to show you is that you get a second chance. It really shows the main actor in it that you don't know how good you have it until you loose it all. The people in this movie get way ahead of themselves and want to do to much. Overall this was a great movie. It was well worth my time and I would love to see it plenty of more times. So just give this movie a chance and go see it. You will most likely enjoy it. I think that any ages above 13 would enjoy this. You will especially like this movie if you like to gamble or play cards.\"\n",
    "# review = \"Before making a movie about blackjack and card counting it would have been a good idea to read some of hundreds of books on this subject available in any major bookstore. That would have prevented the creators of this movie to look like a bunch of ignorant fools totally lacking even general knowledge of the game of blackjack, card counting and casino's countermeasures. Here is why:<br/><br/>1. Nowadays blackjack is played with 4-6-8 deck shoes cut in the middle (or 2/3 at best), which makes the player's edge (if any) so small, that making any profit is mathematically possible only in the long run. It means that no matter how favourable the count is, you chances of winning a particular hand are increased by such a small percentage, that before making any profit you may be losing many hands and even suffer substantial financial losses. Only if you are ready for losing streaks in the process and patient, and if you don't make mistakes with count and basic strategy, you may be winning in the long run. Coming to Vegas for a weekend and making fortune by winning all the time is an absolute nonsense.<br/><br/>2. To prevent card counters from making money casino's security personnel do not abduct them in the middle of a crowded casino, torture them in the back office and take away their winnings - casinos simply ban card counters. Casinos in the US are legally private clubs: they don't charge admission fee and it's up to them to decide who will be allowed to enter the club. Since card counting is not illegal (it's just a skill), nor casino security, nor law enforcement can arrest anybody for it without serious consequences like losing casino license and possibly serving jail time. Not all casinos ban card counters, but those which don't changed blackjack rules to the degree that card counting would not overcome house edge.<br/><br/>3. Besides blackjack related issues a person who keeps more than 300 grand cash in his dorm room can only be seen as a complete idiot. Obviously depositing this money in a bank account in the US could have caused problems with IRS, money laundering regulations, etc., but renting a bank safe deposit box could have solved the problem altogether. The image of a brilliant MIT student acting like a retard doesn't make any sense and makes me question the intellectual level of the screenplay writers.<br/><br/>Conclusion: stay away from this movie - don't degrade yourself by watching it.\"\n",
    "# Vectorize the preprocessed review text\n",
    "vectorized_review = vectorizer.transform([review])\n",
    "\n",
    "# Make sentiment prediction\n",
    "sentiment_prediction = nb_classifier.predict(vectorized_review)\n",
    "\n",
    "# Print the predicted sentiment\n",
    "if sentiment_prediction == 1:\n",
    "    print(\"Positive sentiment\")\n",
    "else:\n",
    "    print(\"Negative sentiment\")\n"
   ]
  },
  {
   "cell_type": "code",
   "execution_count": null,
   "id": "bb5c0a79-60d7-4ac7-8b52-55e317a83840",
   "metadata": {},
   "outputs": [],
   "source": []
  }
 ],
 "metadata": {
  "kernelspec": {
   "display_name": "Python 3 (ipykernel)",
   "language": "python",
   "name": "python3"
  },
  "language_info": {
   "codemirror_mode": {
    "name": "ipython",
    "version": 3
   },
   "file_extension": ".py",
   "mimetype": "text/x-python",
   "name": "python",
   "nbconvert_exporter": "python",
   "pygments_lexer": "ipython3",
   "version": "3.9.12"
  }
 },
 "nbformat": 4,
 "nbformat_minor": 5
}
