{
 "cells": [
  {
   "cell_type": "code",
   "execution_count": 12,
   "metadata": {},
   "outputs": [
    {
     "name": "stdout",
     "output_type": "stream",
     "text": [
      "[[0.72117789 0.27882211]]\n",
      "Positive sentiment\n"
     ]
    }
   ],
   "source": [
    "import pickle\n",
    "import numpy as np\n",
    "from sklearn.feature_extraction.text import CountVectorizer\n",
    "from sklearn.naive_bayes import MultinomialNB\n",
    "from sklearn.metrics import accuracy_score\n",
    "\n",
    "nb_loaded_model = pickle.load(open('nb_model.pkl','rb'))\n",
    "nb_loaded_vectorizer = pickle.load(open('nb_vectorizer.pkl','rb'))\n",
    "\n",
    "# Preprocess the review text\n",
    "review = r\"Wow what a complex movie, I could barely understand it, but it was good!!!\"\n",
    "vectorized_review = nb_loaded_vectorizer.transform([review])\n",
    "\n",
    "# Make sentiment prediction\n",
    "sentiment_prediction = nb_loaded_model.predict_proba(vectorized_review)\n",
    "\n",
    "print(sentiment_prediction)\n",
    "\n",
    "# Print the predicted sentiment\n",
    "if sentiment_prediction[0][0] > 0.6:\n",
    "    print(\"Positive sentiment\")\n",
    "else:\n",
    "    print(\"Negative sentiment\")\n"
   ]
  }
 ],
 "metadata": {
  "kernelspec": {
   "display_name": "venv",
   "language": "python",
   "name": "python3"
  },
  "language_info": {
   "codemirror_mode": {
    "name": "ipython",
    "version": 3
   },
   "file_extension": ".py",
   "mimetype": "text/x-python",
   "name": "python",
   "nbconvert_exporter": "python",
   "pygments_lexer": "ipython3",
   "version": "3.11.3"
  },
  "orig_nbformat": 4
 },
 "nbformat": 4,
 "nbformat_minor": 2
}
